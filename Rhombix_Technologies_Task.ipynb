{
  "nbformat": 4,
  "nbformat_minor": 0,
  "metadata": {
    "colab": {
      "provenance": [],
      "authorship_tag": "ABX9TyN7RvWUBiNj/TDSCepS84Gd",
      "include_colab_link": true
    },
    "kernelspec": {
      "name": "python3",
      "display_name": "Python 3"
    },
    "language_info": {
      "name": "python"
    }
  },
  "cells": [
    {
      "cell_type": "markdown",
      "metadata": {
        "id": "view-in-github",
        "colab_type": "text"
      },
      "source": [
        "<a href=\"https://colab.research.google.com/github/RehanFaisal864/RhombixTechnologies_Tasks/blob/main/Rhombix_Technologies_Task.ipynb\" target=\"_parent\"><img src=\"https://colab.research.google.com/assets/colab-badge.svg\" alt=\"Open In Colab\"/></a>"
      ]
    },
    {
      "cell_type": "code",
      "execution_count": 1,
      "metadata": {
        "id": "u7_iE5raVIfz"
      },
      "outputs": [],
      "source": [
        "# Fibonacci Generator - Internship Task 1\n",
        "# The Fibonacci series: each number is the sum of the two preceding numbers\n",
        "# Example: 0, 1, 1, 2, 3, 5, 8, 13, 21, 34, 55, 89...\n",
        "\n",
        "def fibonacci_generator():\n",
        "    \"\"\"\n",
        "    Generator function that yields Fibonacci numbers infinitely\n",
        "    Each number is the sum of the two preceding numbers\n",
        "    \"\"\"\n",
        "    a, b = 0, 1  # Starting with first two Fibonacci numbers\n",
        "    while True:\n",
        "        yield a  # Return current Fibonacci number\n",
        "        a, b = b, a + b  # Update: a becomes b, b becomes sum of previous a and b\n"
      ]
    },
    {
      "cell_type": "code",
      "source": [
        "def fibonacci_list(n):\n",
        "    \"\"\"\n",
        "    Generate first n Fibonacci numbers and return as a list\n",
        "\n",
        "    Args:\n",
        "        n (int): Number of Fibonacci numbers to generate\n",
        "\n",
        "    Returns:\n",
        "        list: List containing first n Fibonacci numbers\n",
        "    \"\"\"\n",
        "    if n <= 0:\n",
        "        return []\n",
        "    elif n == 1:\n",
        "        return [0]\n",
        "\n",
        "    fib_list = [0, 1]  # Start with first two numbers\n",
        "\n",
        "    # Generate remaining numbers\n",
        "    for i in range(2, n):\n",
        "        next_fib = fib_list[i-1] + fib_list[i-2]  # Sum of two preceding numbers\n",
        "        fib_list.append(next_fib)\n",
        "\n",
        "    return fib_list"
      ],
      "metadata": {
        "id": "HcZdtn11VR4V"
      },
      "execution_count": 2,
      "outputs": []
    },
    {
      "cell_type": "code",
      "source": [
        "def fibonacci_nth(n):\n",
        "    \"\"\"\n",
        "    Find the nth Fibonacci number (0-indexed)\n",
        "\n",
        "    Args:\n",
        "        n (int): Position in Fibonacci sequence (starting from 0)\n",
        "\n",
        "    Returns:\n",
        "        int: The nth Fibonacci number\n",
        "    \"\"\"\n",
        "    if n == 0:\n",
        "        return 0\n",
        "    elif n == 1:\n",
        "        return 1\n",
        "\n",
        "    a, b = 0, 1\n",
        "    for i in range(2, n + 1):\n",
        "        a, b = b, a + b  # Each number is sum of two preceding numbers\n",
        "\n",
        "    return b"
      ],
      "metadata": {
        "id": "ye0Ii6MgVYNa"
      },
      "execution_count": 3,
      "outputs": []
    },
    {
      "cell_type": "code",
      "source": [
        "def print_fibonacci_sequence(count):\n",
        "    \"\"\"\n",
        "    Print Fibonacci sequence in a formatted way\n",
        "\n",
        "    Args:\n",
        "        count (int): Number of Fibonacci numbers to print\n",
        "    \"\"\"\n",
        "    print(f\"First {count} Fibonacci numbers:\")\n",
        "    print(\"Position: Number\")\n",
        "    print(\"-\" * 15)\n",
        "\n",
        "    fib_gen = fibonacci_generator()\n",
        "    for i in range(count):\n",
        "        fib_num = next(fib_gen)\n",
        "        print(f\"{i:8}: {fib_num}\")\n"
      ],
      "metadata": {
        "id": "Oh7C94MHVc9-"
      },
      "execution_count": 4,
      "outputs": []
    },
    {
      "cell_type": "code",
      "source": [
        "# Example usage and demonstration\n",
        "if __name__ == \"__main__\":\n",
        "    print(\"🔢 FIBONACCI GENERATOR - INTERNSHIP TASK 🔢\")\n",
        "    print(\"=\" * 50)\n",
        "\n",
        "    # Method 1: Using list function\n",
        "    print(\"\\n1. Generate first 10 Fibonacci numbers as a list:\")\n",
        "    fib_list = fibonacci_list(10)\n",
        "    print(f\"List: {fib_list}\")\n",
        "\n",
        "    # Method 2: Find specific Fibonacci number\n",
        "    print(f\"\\n2. The 7th Fibonacci number (0-indexed): {fibonacci_nth(7)}\")\n",
        "\n",
        "    # Method 3: Using generator to print sequence\n",
        "    print(\"\\n3. Using generator to display sequence:\")\n",
        "    print_fibonacci_sequence(12)\n",
        "\n",
        "    # Method 4: Interactive example\n",
        "    print(\"\\n4. Mathematical relationship demonstration:\")\n",
        "    print(\"Each number = sum of two preceding numbers\")\n",
        "    fib_numbers = fibonacci_list(8)\n",
        "    for i in range(2, len(fib_numbers)):\n",
        "        prev_two = fib_numbers[i-2]\n",
        "        prev_one = fib_numbers[i-1]\n",
        "        current = fib_numbers[i]\n",
        "        print(f\"{prev_two} + {prev_one} = {current}\")\n",
        "\n",
        "    # Method 5: User input example\n",
        "    print(\"\\n5. Generate custom amount:\")\n",
        "    try:\n",
        "        user_count = int(input(\"How many Fibonacci numbers do you want? \"))\n",
        "        if user_count > 0:\n",
        "            custom_fib = fibonacci_list(user_count)\n",
        "            print(f\"Your {user_count} Fibonacci numbers: {custom_fib}\")\n",
        "        else:\n",
        "            print(\"Please enter a positive number!\")\n",
        "    except ValueError:\n",
        "        print(\"Please enter a valid integer!\")\n",
        "\n",
        "    print(\"\\n\" + \"=\" * 50)\n",
        "    print(\"Task completed successfully! 🎉\")"
      ],
      "metadata": {
        "colab": {
          "base_uri": "https://localhost:8080/"
        },
        "id": "5zSW4yWcViLv",
        "outputId": "94aab353-3bfc-4aff-e9a2-dc41823ee89b"
      },
      "execution_count": 7,
      "outputs": [
        {
          "output_type": "stream",
          "name": "stdout",
          "text": [
            "🔢 FIBONACCI GENERATOR - INTERNSHIP TASK 🔢\n",
            "==================================================\n",
            "\n",
            "1. Generate first 10 Fibonacci numbers as a list:\n",
            "List: [0, 1, 1, 2, 3, 5, 8, 13, 21, 34]\n",
            "\n",
            "2. The 7th Fibonacci number (0-indexed): 13\n",
            "\n",
            "3. Using generator to display sequence:\n",
            "First 12 Fibonacci numbers:\n",
            "Position: Number\n",
            "---------------\n",
            "       0: 0\n",
            "       1: 1\n",
            "       2: 1\n",
            "       3: 2\n",
            "       4: 3\n",
            "       5: 5\n",
            "       6: 8\n",
            "       7: 13\n",
            "       8: 21\n",
            "       9: 34\n",
            "      10: 55\n",
            "      11: 89\n",
            "\n",
            "4. Mathematical relationship demonstration:\n",
            "Each number = sum of two preceding numbers\n",
            "0 + 1 = 1\n",
            "1 + 1 = 2\n",
            "1 + 2 = 3\n",
            "2 + 3 = 5\n",
            "3 + 5 = 8\n",
            "5 + 8 = 13\n",
            "\n",
            "5. Generate custom amount:\n",
            "How many Fibonacci numbers do you want? 13\n",
            "Your 13 Fibonacci numbers: [0, 1, 1, 2, 3, 5, 8, 13, 21, 34, 55, 89, 144]\n",
            "\n",
            "==================================================\n",
            "Task completed successfully! 🎉\n"
          ]
        }
      ]
    }
  ]
}